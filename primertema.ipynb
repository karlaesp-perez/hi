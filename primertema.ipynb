{
  "nbformat": 4,
  "nbformat_minor": 0,
  "metadata": {
    "colab": {
      "provenance": [],
      "authorship_tag": "ABX9TyMrXq3Ce0C2pT6U/E1GGLd+",
      "include_colab_link": true
    },
    "kernelspec": {
      "name": "python3",
      "display_name": "Python 3"
    },
    "language_info": {
      "name": "python"
    }
  },
  "cells": [
    {
      "cell_type": "markdown",
      "metadata": {
        "id": "view-in-github",
        "colab_type": "text"
      },
      "source": [
        "<a href=\"https://colab.research.google.com/github/001enrique/ClasesPython/blob/main/primertema.ipynb\" target=\"_parent\"><img src=\"https://colab.research.google.com/assets/colab-badge.svg\" alt=\"Open In Colab\"/></a>"
      ]
    },
    {
      "cell_type": "markdown",
      "source": [
        "**Lenguaje y Algoritmo**\n",
        "\n",
        "Leenguajes de programación:\n",
        "\n",
        "\n",
        "*   C\n",
        "*   C++\n",
        "*   Java\n",
        "*   Fortran\n",
        "*   Delphi\n",
        "\n",
        "**Algoritmo**\n",
        "\n",
        "Conjunto de pasos, procedimientos o acciones que nos permiten alcanzar un resultado o resolver un problema.\n",
        "\n",
        "Características:\n",
        "\n",
        "Deterministmo.\n",
        "Precisión.\n",
        "Finitud.\n",
        "\n",
        "(Cairó et al., 1993)\n",
        "\n",
        "**Datos Numéricos**\n",
        "\n",
        "Valores enteros y valores reales.\n",
        "Valores enteros pueden estar precedidos por los signos ( +  -)\n",
        "\n",
        "128 152s -714 8 530 -14 789\n",
        "7.5  128.0  -37.865   129.7    16 000.50\n",
        "\n",
        "**Datos Alfanuméricos**\n",
        "*caracter\n",
        "*Cadena\n",
        "\n",
        "(a,b,c...z)\n",
        "(0, 1, 2, 3... 9)\n",
        "(#, ?, $, %, *, etc)\n",
        "\n",
        "'a' 'B' '$' '9' 'H'\n",
        "\n",
        "\"abc\" \"$9#7\" \"Heeeectoooor\" \"Patroclo!!!\" \"754-27-22\"\n",
        "\n",
        "**Datos Lógicos**\n",
        "booleanos\n",
        "Verdadero (true)\n",
        "Falso     (false)\n",
        "\n"
      ],
      "metadata": {
        "id": "vbJTQJb0_qWX"
      }
    },
    {
      "cell_type": "code",
      "source": [
        "#tipos de Variable en Python\n",
        "#El tipo de variable estará determinado por el tipo de dato que almacena\n",
        "#Enteros: vasta agregar un valor entero.\n",
        "\n",
        "a=10\n",
        "b=11\n",
        "\n",
        "#Decimales: deben agregarse un número con punto flotante\n",
        "c=3.1416\n",
        "\n",
        "#Booleanos: Datos con verdadero y false\n",
        "#Se pueden usar palabras: True y False\n",
        "\n",
        "verdad = True\n",
        "falso = False\n",
        "\n",
        "Verdad = 1\n",
        "Falso = 0\n",
        "\n",
        "#Texto o Cadena o String\n",
        "saludo = \"Hola Mundo\"\n",
        "nombre = \"Juan\"\n",
        "\n",
        "uno = 'a'\n",
        "dos = 'b'\n",
        "\n",
        "print(a)\n",
        "print(b)\n",
        "print(c)\n",
        "print(verdad)\n",
        "print(falso)\n",
        "print(Verdad)\n",
        "print(Falso)\n",
        "print(saludo)\n",
        "print(nombre)\n",
        "print(uno)\n",
        "print(dos)"
      ],
      "metadata": {
        "colab": {
          "base_uri": "https://localhost:8080/"
        },
        "id": "zhSkwGkfLYan",
        "outputId": "478152fd-4f9c-4418-e774-dd58cd864e94"
      },
      "execution_count": 6,
      "outputs": [
        {
          "output_type": "stream",
          "name": "stdout",
          "text": [
            "10\n",
            "11\n",
            "3.1416\n",
            "True\n",
            "False\n",
            "1\n",
            "0\n",
            "Hola Mundo\n",
            "Juan\n",
            "a\n",
            "b\n"
          ]
        }
      ]
    }
  ]
}